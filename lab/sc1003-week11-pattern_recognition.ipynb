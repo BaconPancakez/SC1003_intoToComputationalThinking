{
 "cells": [
  {
   "cell_type": "markdown",
   "metadata": {},
   "source": [
    "## Laboratory Manual for SC1003 - Introduction to Computational Thinking and Programming\n",
    "\n",
    "### Practical Exercise #9: Pattern Recognition\n",
    "\n",
    "##### Learning Objectives\n",
    "- Analyse a problem and recognize the pattern\n",
    "- Develop a simulator based on the identified pattern\n",
    "\n",
    "##### Equipment and accessories required\n",
    "- PC/notebook with python and jupyter notebook\n",
    "\n",
    "---\n",
    "\n",
    "### 1) Pattern Recognition\n",
    "Pattern recognition is a fundamental concept in computational thinking that involves identifying and understanding patterns within data or problems. This process helps in simplifying complex problems by breaking them down into more manageable parts. By recognizing patterns, one can predict future behavior, make informed decisions, and create algorithms that can solve problems more efficiently.\n",
    "\n",
    "In computational thinking, pattern recognition typically involves the following steps:\n",
    "\n",
    "- **Observation**: Identifying common elements or features in problems.\n",
    "- **Categorization**: Identifying and intepreting common differences between problems.\n",
    "- **Decomposition & Abstraction**: Identifying individual elements within problems.\n",
    "- **Generalization**: Formulating general rules or principles based on the identified patterns.\n",
    "- **Application**: Using the recognized patterns to solve new problems or to optimize existing solutions (making prediction).\n",
    "\n",
    "For example, in the context of programming, pattern recognition might involve identifying common sequences of code that perform similar tasks, which can then be abstracted into functions or classes to promote code reuse and efficiency.\n",
    "\n",
    "\n",
    "\n",
    "\n",
    "### 2) Cellular Automata\n",
    "A cellular automaton is a collection of \"colored\" cells on a grid of specified shape that evolves through a number of discrete time steps (generation) according to a set of rules (0-255) based on the states of neighboring cells. The rules are then applied iteratively for as many time steps as desired [1]. The simplest type of cellular automaton is a binary, nearest-neighbor, one-dimensional automaton. Such automata were called \"elementary cellular automata\" by S. Wolfram [2].\n",
    "\n",
    "<img src=\"https://mathworld.wolfram.com/images/eps-svg/ElementaryCARule030_700.svg\"><br> \n",
    "\n",
    "*Source:[1]*\n",
    "\n",
    "\n",
    "As a starting point, you may watch the video [3] to get a sense how cellular automata works and its rules. Most importantly, try to understanding the concept, decompose the problem, identifying the pattern, and then implement a simulator which take in three input i.e. rule number (0-255), number of generation (step), and initial state (e.g. `00010000`). The simulator will then generate the pattern based on the implemented elementary cellular automata logic. You must test your simulator to ensure your logic is correct and produce the right output on this Jupyter Notebook when given the rule and initial state of say `00010000`. \n",
    "\n",
    "**IMPORTANT**: While you are encourage to read articles or watch as many videos as possible to undestand cellular automata and identify the pattern, you are discourage to refer or generate any code while completing this exercise, as this will defeat its purpose and objective. Worst is that you will learn not much about pattern recognition by getting code from elsewhere.\n",
    "\n",
    "\n",
    "### 3) Advance Task (Optional)\n",
    "Once you completed the task above, you may consider implementing the Elementary Cellular Automata using better visualization library such as matplotlib or pygame.\n",
    "\n",
    "If you wish to go even further, you can try to explore 2D Cellular Automata which also known as \"Game of Life\".  \n",
    "<img src=\"https://mathworld.wolfram.com/images/gifs/puffertr.gif\"><br>*Source:[1]*\n",
    "\n",
    "##### References:\n",
    "[1] Wolform Mathworld, \"Cellular Automaton\". \\<https://mathworld.wolfram.com/CellularAutomaton.html\\>  \n",
    "[2] Wolform mathworld, \"Elementary Cellular Automata\". \\<https://mathworld.wolfram.com/\\>  ElementaryCellularAutomaton.html  \n",
    "[3] The Coding Train, Elementary Cellular Automata Video. Youtube \\<https://youtu.be/Ggxt06qSAe4\\>  "
   ]
  },
  {
   "cell_type": "code",
   "execution_count": 219,
   "metadata": {},
   "outputs": [],
   "source": [
    "## THIS FUNCTION IS GIVEN TO STUDENT\n",
    "\"\"\"\n",
    "a function to convert a rule number (int) to its binary representation (str)\n",
    "\n",
    "Parameters: \n",
    "rule_number (int): a range of numbers 0-255\n",
    "\n",
    "Returns: \n",
    "string of binary representation\n",
    "\"\"\"\n",
    "def rule_to_binary(rule_number):\n",
    "    \n",
    "    return f\"{rule_number:08b}\""
   ]
  },
  {
   "cell_type": "code",
   "execution_count": 220,
   "metadata": {},
   "outputs": [],
   "source": [
    "\"\"\"\n",
    "a function to get the neighborhood of a cell.\n",
    "\n",
    "Parameters: \n",
    "state (str) - current state in binary format\n",
    "index (int) : the index to yield its neighbour \n",
    "8 bits -> 0 - 7\n",
    "\n",
    "Returns: \n",
    "string of 3 binary representation\n",
    "\"\"\"\n",
    "def get_neighborhood(state, index):\n",
    "    state = list(state)\n",
    "    left = state[(index-1) % len(state)]\n",
    "    center = state[index]\n",
    "    right = state[(index+1) % len(state)]\n",
    "    total = left + center + right\n",
    "    return total"
   ]
  },
  {
   "cell_type": "code",
   "execution_count": 221,
   "metadata": {},
   "outputs": [
    {
     "name": "stdout",
     "output_type": "stream",
     "text": [
      "0000011100000\n"
     ]
    }
   ],
   "source": [
    "\"\"\"\n",
    "a function to compute the next state of the automaton based on the current state and the rule.\n",
    "\n",
    "Parameter: \n",
    "state (str) : current state in binary format\n",
    "rule_binary (int) : the index to yield its neighbour\n",
    "\n",
    "Returns: \n",
    "new binary representation (next generation)\n",
    "\"\"\"\n",
    "def next_state(current_state, rule_binary):\n",
    "    rule_binary = rule_to_binary(rule_binary)\n",
    "    next_state = ''\n",
    "\n",
    "    for i in range(len(current_state)):\n",
    "        # Get the neighborhood of the current cell\n",
    "        present_state = get_neighborhood(current_state, i)\n",
    "\n",
    "        # Map the neighborhood to the corresponding rule output\n",
    "        rule_index = int(present_state, 2)  # Convert binary neighborhood to decimal index - int(value,base) int(000, 2) - 0\n",
    "        next_state += rule_binary[7 - rule_index]  # Rule binary is in reverse order\n",
    "\n",
    "    return next_state\n",
    "\n",
    "print(next_state('0000001000000',30))"
   ]
  },
  {
   "cell_type": "code",
   "execution_count": 222,
   "metadata": {},
   "outputs": [],
   "source": [
    "\"\"\"\n",
    "Simulates a one-dimensional cellular automaton.\n",
    "\n",
    "Parameters:\n",
    "initial_state (list of str): The initial state of the automaton, represented as a list of characters (e.g., '0' and '1').\n",
    "rule_number (int): The rule number (0-255) defining the automaton's behavior, which is converted to binary.\n",
    "generations (int): The number of generations to simulate.\n",
    "\n",
    "Returns:\n",
    "None: The function prints each generation's state to the console.\n",
    "\"\"\"\n",
    "def simulate_automaton(initial_state, rule_number, generations):\n",
    "    data = []\n",
    "    present_state = initial_state\n",
    "    print(*present_state, sep='')\n",
    "    for i in range(generations):\n",
    "        new_state = next_state(present_state,rule_number)\n",
    "        print(new_state)\n",
    "        present_state = new_state\n",
    "        data.append(list(map(int,present_state)))\n",
    "    return data\n"
   ]
  },
  {
   "cell_type": "code",
   "execution_count": null,
   "metadata": {},
   "outputs": [
    {
     "name": "stdout",
     "output_type": "stream",
     "text": [
      "0000001000000\n",
      "0000011100000\n",
      "0000110010000\n",
      "0001101111000\n",
      "0011001000100\n",
      "0110111101110\n",
      "1100100001001\n",
      "0011110011111\n",
      "1110001110000\n",
      "1001011001001\n",
      "0111010111111\n",
      "0100010100000\n",
      "1110110110000\n",
      "1000100101001\n",
      "0101111101111\n",
      "0101000001000\n",
      "1101100011100\n",
      "1001010110011\n",
      "0111010101110\n",
      "1100010101001\n",
      "0010110101111\n",
      "[[0, 0, 0, 0, 0, 1, 1, 1, 0, 0, 0, 0, 0], [0, 0, 0, 0, 1, 1, 0, 0, 1, 0, 0, 0, 0], [0, 0, 0, 1, 1, 0, 1, 1, 1, 1, 0, 0, 0], [0, 0, 1, 1, 0, 0, 1, 0, 0, 0, 1, 0, 0], [0, 1, 1, 0, 1, 1, 1, 1, 0, 1, 1, 1, 0], [1, 1, 0, 0, 1, 0, 0, 0, 0, 1, 0, 0, 1], [0, 0, 1, 1, 1, 1, 0, 0, 1, 1, 1, 1, 1], [1, 1, 1, 0, 0, 0, 1, 1, 1, 0, 0, 0, 0], [1, 0, 0, 1, 0, 1, 1, 0, 0, 1, 0, 0, 1], [0, 1, 1, 1, 0, 1, 0, 1, 1, 1, 1, 1, 1], [0, 1, 0, 0, 0, 1, 0, 1, 0, 0, 0, 0, 0], [1, 1, 1, 0, 1, 1, 0, 1, 1, 0, 0, 0, 0], [1, 0, 0, 0, 1, 0, 0, 1, 0, 1, 0, 0, 1], [0, 1, 0, 1, 1, 1, 1, 1, 0, 1, 1, 1, 1], [0, 1, 0, 1, 0, 0, 0, 0, 0, 1, 0, 0, 0], [1, 1, 0, 1, 1, 0, 0, 0, 1, 1, 1, 0, 0], [1, 0, 0, 1, 0, 1, 0, 1, 1, 0, 0, 1, 1], [0, 1, 1, 1, 0, 1, 0, 1, 0, 1, 1, 1, 0], [1, 1, 0, 0, 0, 1, 0, 1, 0, 1, 0, 0, 1], [0, 0, 1, 0, 1, 1, 0, 1, 0, 1, 1, 1, 1]]\n"
     ]
    },
    {
     "data": {
      "image/png": "[encoded data removed]",
      "text/plain": [
       "<Figure size 500x1000 with 1 Axes>"
      ]
     },
     "metadata": {},
     "output_type": "display_data"
    }
   ],
   "source": [
    "import matplotlib.pyplot as plt\n",
    "\n",
    "## main function to take user input and run the simulation\n",
    "def main():\n",
    "    rule_number = int(input(\"Enter the rule number (0-255): \"))\n",
    "    initial_state = list(input(\"Enter the initial state (e.g., 0001000): \"))\n",
    "    generations = int(input(\"Enter the number of generations: \"))\n",
    "    states = simulate_automaton(initial_state, rule_number, generations)\n",
    "\n",
    "    # Plot the states\n",
    "    plt.figure(figsize=(5, 10)) \n",
    "    plt.imshow(states, cmap='binary', interpolation='nearest')\n",
    "    plt.title(f\"Cellular Automaton - Rule {rule_number}\")\n",
    "    plt.axis(\"off\")\n",
    "    plt.show()\n",
    "main()"
   ]
  },
  {
   "cell_type": "markdown",
   "metadata": {},
   "source": [
    "### 4) Example\n",
    "\n",
    "\n",
    "\n",
    "\n",
    "rule: 30\n",
    "initial state: 0000001000000\n",
    "generation: 20\n",
    "\n",
    "Output:\n",
    "```\n",
    "0000001000000\n",
    "0000011100000\n",
    "0000110010000\n",
    "0001101111000\n",
    "0011001000100\n",
    "0110111101110\n",
    "1100100001001\n",
    "0011110011111\n",
    "1110001110000\n",
    "1001011001001\n",
    "0111010111111\n",
    "0100010100000\n",
    "1110110110000\n",
    "1000100101001\n",
    "0101111101111\n",
    "0101000001000\n",
    "1101100011100\n",
    "1001010110011\n",
    "0111010101110\n",
    "1100010101001\n",
    "```"
   ]
  },
  {
   "cell_type": "code",
   "execution_count": null,
   "metadata": {},
   "outputs": [],
   "source": []
  }
 ],
 "metadata": {
  "kernelspec": {
   "display_name": "Python 3",
   "language": "python",
   "name": "python3"
  },
  "language_info": {
   "codemirror_mode": {
    "name": "ipython",
    "version": 3
   },
   "file_extension": ".py",
   "mimetype": "text/x-python",
   "name": "python",
   "nbconvert_exporter": "python",
   "pygments_lexer": "ipython3",
   "version": "3.13.0"
  }
 },
 "nbformat": 4,
 "nbformat_minor": 2
}
