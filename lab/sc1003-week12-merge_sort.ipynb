{
 "cells": [
  {
   "cell_type": "markdown",
   "metadata": {},
   "source": [
    "## Laboratory Manual for SC1003 - Introduction to Computational Thinking and Programming\n",
    "\n",
    "### Practical Exercise #10: Merge Sort\n",
    "\n",
    "##### Learning Objectives\n",
    "- Learn how to implement the merge sort algorithm to sort a list of dictionaries based on a specific key.\n",
    "\n",
    "##### Equipment and accessories required\n",
    "- PC/notebook with python and jupyter notebook\n",
    "\n",
    "##### Pre-requisites\n",
    "- Basic understanding of Python and Dictionary\n",
    "- Familiarity with sorting algorithms, particularly merge sort.\n",
    "\n",
    "---\n",
    "\n",
    "### Merge Sort\n",
    "The **Merge Sort** algorithm is a divide-and-conquer algorithm that sorts an array by first breaking it down into smaller arrays, and then building the array back together the correct way so that it is sorted. In essence, A problem is repeatedly broken up into sub-problems, often using **recursion**, until they are small enough to be solved. The solutions are then combined to solve the larger problem. [1]\n",
    "\n",
    "In the exercise, you will implement a custom merge sorting algorithm to sort a list of dictionaries. These dictionaries represent a person with key-value pairs such as the person `name` and person `age`. Your `mergesort` algorithm should take in a list of dictionaries, `persons`, and also a `key` that specify which attribute the merge sort algorithm should use to perform the sorting operation. A sample of the list are shown below:\n",
    "\n",
    "```python\n",
    "persons = [\n",
    "    {\"name\": \"bob\", \"age\": 15},\n",
    "    {\"name\": \"alice\", \"age\": 12},\n",
    "    {\"name\": \"dave\", \"age\": 13},\n",
    "    {\"name\": \"carol\", \"age\": 10},\n",
    "    ... <you may add more>\n",
    "]\n",
    "```\n",
    "\n",
    "To begin, revisit the LAMS sequence or lecture slide on Week 12 to understand the merge sort algorithm. Try to reproduce the code with simple list of numbers first, and test it out. Then modify the algorithm to customise the function to sort the list of dictionaries (persons). If you face some challenges in understanding the the general merge sort algorithm, you may refer the hackerearth's algorithm visualizer tool [2] on merge sort algorithm.\n",
    "\n",
    "Please proceed and continue to work on your mini-project once you have completed this lab exercise. This is the last lab for this course.\n",
    "\n",
    "\n",
    "##### References:\n",
    "[1] NTU Learn, \"Week 12 - Algorithm Implementation: Sorting in Python\".  \n",
    "[2] HackerEarth, \"Merge Sort\". \\<https://www.hackerearth.com/practice/algorithms/sorting/merge-sort/visualize/\\>  \n",
    "\n",
    "---"
   ]
  },
  {
   "cell_type": "markdown",
   "metadata": {},
   "source": [
    "#### To Do:\n",
    "##### Implement Merge Sort\n",
    "1) Define a function `merge_sort(data, key)` that takes a list of dictionaries and a key to sort by.\n",
    "2) Implement the merge sort algorithm:\n",
    "    - **Base Case**: If the list has one or zero elements, it is already sorted.\n",
    "    - **Recursive Case**: Split the list into two halves, recursively sort each half, and merge the sorted halves.\n",
    "3) Define a helper function `merge(left, right, key)` to merge two sorted lists."
   ]
  },
  {
   "cell_type": "code",
   "execution_count": null,
   "metadata": {},
   "outputs": [],
   "source": [
    "\"\"\"\n",
    "Sorts a list of dictionaries based on a specified key using the merge sort algorithm.\n",
    "\n",
    "Parameters:\n",
    "data (list): A list of dictionaries to be sorted.\n",
    "key (str): The key in the dictionaries to sort by.\n",
    "\n",
    "Returns:\n",
    "list: A new list of dictionaries sorted by the specified key.\n",
    "\"\"\"\n",
    "def merge_sort(data, key):\n",
    "    list_len = len(data)\n",
    "    if list_len < 2:\n",
    "        return data\n",
    "    left_list = data[:list_len//2]\n",
    "    right_list = data[list_len//2:]\n",
    "\n",
    "    left_list = merge_sort(left_list,key)\n",
    "    right_list = merge_sort(right_list,key)\n",
    "    return merge(left_list,right_list)\n",
    "\n",
    "\"\"\"\n",
    "Merges two sorted lists of dictionaries into a single sorted list.\n",
    "\n",
    "Parameters:\n",
    "left (list): The first sorted list of dictionaries.\n",
    "right (list): The second sorted list of dictionaries.\n",
    "key (str): The key in the dictionaries to sort by.\n",
    "\n",
    "Returns:\n",
    "list: A merged and sorted list of dictionaries.\n",
    "\"\"\"\n",
    "def merge(left, right, key):\n",
    "    result_list = []\n",
    "\n",
    "    while left and right:\n",
    "        if left[0] < right[0]:\n",
    "            result_list.append(left[0])\n",
    "            left.pop(0)\n",
    "        else:\n",
    "            result_list.append(right[0])\n",
    "            right.pop(0)\n",
    "        \n",
    "    if left:\n",
    "        result_list.extend(left)\n",
    "    else:\n",
    "        result_list.extend(right)\n",
    "    return result_list"
   ]
  },
  {
   "cell_type": "markdown",
   "metadata": {},
   "source": [
    "##### Test Simple Merge Program"
   ]
  },
  {
   "cell_type": "code",
   "execution_count": 25,
   "metadata": {},
   "outputs": [],
   "source": [
    "# ## Test your simple mergesort function here\n",
    "# test_data = [6,5,4,2,3,1]\n",
    "# sorted_data = merge_sort(test_data)\n",
    "# print(sorted_data)"
   ]
  },
  {
   "cell_type": "markdown",
   "metadata": {},
   "source": [
    "##### Main Program"
   ]
  },
  {
   "cell_type": "code",
   "execution_count": 26,
   "metadata": {},
   "outputs": [
    {
     "ename": "TypeError",
     "evalue": "merge_sort() missing 1 required positional argument: 'key'",
     "output_type": "error",
     "traceback": [
      "\u001b[0;31m---------------------------------------------------------------------------\u001b[0m",
      "\u001b[0;31mTypeError\u001b[0m                                 Traceback (most recent call last)",
      "Cell \u001b[0;32mIn[26], line 8\u001b[0m\n\u001b[1;32m      1\u001b[0m persons \u001b[38;5;241m=\u001b[39m [\n\u001b[1;32m      2\u001b[0m     {\u001b[38;5;124m\"\u001b[39m\u001b[38;5;124mname\u001b[39m\u001b[38;5;124m\"\u001b[39m: \u001b[38;5;124m\"\u001b[39m\u001b[38;5;124mbob\u001b[39m\u001b[38;5;124m\"\u001b[39m, \u001b[38;5;124m\"\u001b[39m\u001b[38;5;124mage\u001b[39m\u001b[38;5;124m\"\u001b[39m: \u001b[38;5;241m15\u001b[39m},\n\u001b[1;32m      3\u001b[0m     {\u001b[38;5;124m\"\u001b[39m\u001b[38;5;124mname\u001b[39m\u001b[38;5;124m\"\u001b[39m: \u001b[38;5;124m\"\u001b[39m\u001b[38;5;124malice\u001b[39m\u001b[38;5;124m\"\u001b[39m, \u001b[38;5;124m\"\u001b[39m\u001b[38;5;124mage\u001b[39m\u001b[38;5;124m\"\u001b[39m: \u001b[38;5;241m12\u001b[39m},\n\u001b[1;32m      4\u001b[0m     {\u001b[38;5;124m\"\u001b[39m\u001b[38;5;124mname\u001b[39m\u001b[38;5;124m\"\u001b[39m: \u001b[38;5;124m\"\u001b[39m\u001b[38;5;124mdave\u001b[39m\u001b[38;5;124m\"\u001b[39m, \u001b[38;5;124m\"\u001b[39m\u001b[38;5;124mage\u001b[39m\u001b[38;5;124m\"\u001b[39m: \u001b[38;5;241m13\u001b[39m},\n\u001b[1;32m      5\u001b[0m     {\u001b[38;5;124m\"\u001b[39m\u001b[38;5;124mname\u001b[39m\u001b[38;5;124m\"\u001b[39m: \u001b[38;5;124m\"\u001b[39m\u001b[38;5;124mcarol\u001b[39m\u001b[38;5;124m\"\u001b[39m, \u001b[38;5;124m\"\u001b[39m\u001b[38;5;124mage\u001b[39m\u001b[38;5;124m\"\u001b[39m: \u001b[38;5;241m10\u001b[39m},\n\u001b[1;32m      6\u001b[0m ]\n\u001b[0;32m----> 8\u001b[0m sorted_data \u001b[38;5;241m=\u001b[39m \u001b[43mmerge_sort\u001b[49m\u001b[43m(\u001b[49m\u001b[43mpersons\u001b[49m\u001b[43m,\u001b[49m\u001b[43m \u001b[49m\u001b[38;5;124;43m\"\u001b[39;49m\u001b[38;5;124;43mname\u001b[39;49m\u001b[38;5;124;43m\"\u001b[39;49m\u001b[43m)\u001b[49m\n\u001b[1;32m      9\u001b[0m \u001b[38;5;28;01mfor\u001b[39;00m index, person \u001b[38;5;129;01min\u001b[39;00m \u001b[38;5;28menumerate\u001b[39m(sorted_data):\n\u001b[1;32m     10\u001b[0m     \u001b[38;5;28mprint\u001b[39m(\u001b[38;5;124mf\u001b[39m\u001b[38;5;124m\"\u001b[39m\u001b[38;5;124m[\u001b[39m\u001b[38;5;132;01m{\u001b[39;00mindex\u001b[38;5;241m+\u001b[39m\u001b[38;5;241m1\u001b[39m\u001b[38;5;132;01m}\u001b[39;00m\u001b[38;5;124m] Name: \u001b[39m\u001b[38;5;132;01m{\u001b[39;00mperson[\u001b[38;5;124m'\u001b[39m\u001b[38;5;124mname\u001b[39m\u001b[38;5;124m'\u001b[39m]\u001b[38;5;132;01m}\u001b[39;00m\u001b[38;5;124m   \u001b[39m\u001b[38;5;130;01m\\t\u001b[39;00m\u001b[38;5;124mAge: \u001b[39m\u001b[38;5;132;01m{\u001b[39;00mperson[\u001b[38;5;124m'\u001b[39m\u001b[38;5;124mage\u001b[39m\u001b[38;5;124m'\u001b[39m]\u001b[38;5;132;01m}\u001b[39;00m\u001b[38;5;124m\"\u001b[39m)\n",
      "Cell \u001b[0;32mIn[24], line 18\u001b[0m, in \u001b[0;36mmerge_sort\u001b[0;34m(data, key)\u001b[0m\n\u001b[1;32m     15\u001b[0m left_list \u001b[38;5;241m=\u001b[39m data[:list_len\u001b[38;5;241m/\u001b[39m\u001b[38;5;241m/\u001b[39m\u001b[38;5;241m2\u001b[39m]\n\u001b[1;32m     16\u001b[0m right_list \u001b[38;5;241m=\u001b[39m data[list_len\u001b[38;5;241m/\u001b[39m\u001b[38;5;241m/\u001b[39m\u001b[38;5;241m2\u001b[39m:]\n\u001b[0;32m---> 18\u001b[0m left_list \u001b[38;5;241m=\u001b[39m \u001b[43mmerge_sort\u001b[49m\u001b[43m(\u001b[49m\u001b[43mleft_list\u001b[49m\u001b[43m)\u001b[49m\n\u001b[1;32m     19\u001b[0m right_list \u001b[38;5;241m=\u001b[39m merge_sort(right_list)\n\u001b[1;32m     20\u001b[0m \u001b[38;5;28;01mreturn\u001b[39;00m merge(left_list,right_list)\n",
      "\u001b[0;31mTypeError\u001b[0m: merge_sort() missing 1 required positional argument: 'key'"
     ]
    }
   ],
   "source": [
    "persons = [\n",
    "    {\"name\": \"bob\", \"age\": 15},\n",
    "    {\"name\": \"alice\", \"age\": 12},\n",
    "    {\"name\": \"dave\", \"age\": 13},\n",
    "    {\"name\": \"carol\", \"age\": 10},\n",
    "]\n",
    "\n",
    "sorted_data = merge_sort(persons, \"name\")\n",
    "for index, person in enumerate(sorted_data):\n",
    "    print(f\"[{index+1}] Name: {person['name']}   \\tAge: {person['age']}\")\n"
   ]
  }
 ],
 "metadata": {
  "kernelspec": {
   "display_name": "Python 3",
   "language": "python",
   "name": "python3"
  },
  "language_info": {
   "codemirror_mode": {
    "name": "ipython",
    "version": 3
   },
   "file_extension": ".py",
   "mimetype": "text/x-python",
   "name": "python",
   "nbconvert_exporter": "python",
   "pygments_lexer": "ipython3",
   "version": "3.13.0"
  }
 },
 "nbformat": 4,
 "nbformat_minor": 2
}
